{
 "cells": [
  {
   "cell_type": "code",
   "execution_count": 15,
   "id": "637c0ef6-6dce-4548-9b91-d4306f5976b2",
   "metadata": {},
   "outputs": [],
   "source": [
    "from openpyxl import load_workbook\n",
    "from openpyxl.utils import range_boundaries\n",
    "from TimetableBot.settings import BASE_DIR\n",
    "import os\n",
    "\n",
    "path = os.path.join(BASE_DIR, \"actual_timetable.xlsx\")\n",
    "workbook = load_workbook(filename=path)\n",
    "worksheet = workbook.active\n",
    "\n",
    "merged_cells_ranges = worksheet.merged_cells.ranges\n",
    "r = []\n",
    "for merged_cells_range in merged_cells_ranges:\n",
    "    min_col, min_row, max_col, max_row = range_boundaries(merged_cells_range.coord)\n",
    "    data = [min_col, min_row, max_col, max_row]\n",
    "    r.append(data)\n",
    "    # main_value = worksheet.cell(min_row, min_col).value\n",
    "    # for col in range(min_col+1, max_col+1):\n",
    "    #     for row in range(min_row+1, max_row+1):\n",
    "    #         worksheet.cell(row, col).value = main_value\n",
    "    # print(f'Merged cell range: ({min_row}, {min_col}) - ({max_row}, {max_col})\\n___________________')\n",
    "for data in r:\n",
    "    worksheet.unmerge_cells(start_row=data[1], start_column=data[0], end_column=data[2], end_row=data[3])\n",
    "    main_value = worksheet.cell(data[1], data[0]).value\n",
    "    # print(main_value)\n",
    "    for col in range(data[0], data[2]+1):\n",
    "        for row in range(data[1], data[3]+1):\n",
    "            # print(col, row)\n",
    "            worksheet.cell(row, col).value = main_value"
   ]
  },
  {
   "cell_type": "code",
   "execution_count": 16,
   "id": "a0c7d419-8d35-4b56-af95-2bd2e0ed940c",
   "metadata": {},
   "outputs": [],
   "source": [
    "workbook.save('fixed.xlsx')"
   ]
  },
  {
   "cell_type": "code",
   "execution_count": null,
   "id": "aa91ed57-76ad-4aea-aabf-02b3f48c8581",
   "metadata": {},
   "outputs": [],
   "source": []
  }
 ],
 "metadata": {
  "kernelspec": {
   "display_name": "Python 3 (ipykernel)",
   "language": "python",
   "name": "python3"
  },
  "language_info": {
   "codemirror_mode": {
    "name": "ipython",
    "version": 3
   },
   "file_extension": ".py",
   "mimetype": "text/x-python",
   "name": "python",
   "nbconvert_exporter": "python",
   "pygments_lexer": "ipython3",
   "version": "3.10.7"
  }
 },
 "nbformat": 4,
 "nbformat_minor": 5
}
