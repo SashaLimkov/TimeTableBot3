{
 "cells": [
  {
   "cell_type": "code",
   "execution_count": 38,
   "id": "e0972efc-ff5b-45f6-83c2-a015ae8f4e60",
   "metadata": {},
   "outputs": [],
   "source": [
    "import pandas as pd\n",
    "from TimetableBot.settings import BASE_DIR\n",
    "import os\n",
    "from fuzzywuzzy import process\n",
    "import re\n",
    "from typing import Tuple, Dict"
   ]
  },
  {
   "cell_type": "code",
   "execution_count": 115,
   "id": "6b198f8b-2b75-4875-aecc-d10dc19ac6fd",
   "metadata": {},
   "outputs": [],
   "source": [
    "def read_timetable(path:str)->pd.DataFrame:\n",
    "    skiprows = list(range(16))\n",
    "    print(skiprows)\n",
    "    try:\n",
    "        df = pd.read_excel(path, skiprows=lambda ind: ind in skiprows)\n",
    "        df = df.ffill()\n",
    "        return df\n",
    "    except Exception:\n",
    "        return \"Выбран не подходящий файл\""
   ]
  },
  {
   "cell_type": "code",
   "execution_count": 116,
   "id": "e7f1faf6-0dc9-4f3d-9935-291256ec3e4b",
   "metadata": {},
   "outputs": [],
   "source": [
    "def get_cleaned_group_names(df: pd.DataFrame) -> Tuple:\n",
    "    return tuple([col for col in df.columns if \"Unnamed\" not in col])"
   ]
  },
  {
   "cell_type": "code",
   "execution_count": 117,
   "id": "c20ad61e-b0b5-43df-adf8-7eb8b6a4a75f",
   "metadata": {},
   "outputs": [],
   "source": [
    "def get_only_group_numbers(df: pd.DataFrame, cleaned_group_names: Tuple|None = None) -> Tuple:\n",
    "    if cleaned_group_names is None:\n",
    "        cleaned_group_names = get_cleaned_group_names(df=df)\n",
    "    pattern = r\"\\d\\d-\\d\\d\\d\"\n",
    "    return tuple([re.search(pattern, group).group() for group in cleaned_group_names])\n",
    "\n",
    "def get_groups_dict_by_group_numbers(df: pd.DataFrame, cleaned_group_names: Tuple|None = None) -> Dict:\n",
    "    if cleaned_group_names is None:\n",
    "        cleaned_group_names = get_cleaned_group_names(df=df)\n",
    "    pattern = r\"\\d\\d-\\d\\d\\d\"\n",
    "    group_dict = {}\n",
    "    for group in cleaned_group_names:\n",
    "        g_data = re.search(pattern, group)\n",
    "        group_num, group_full_name = g_data.group(), g_data.string \n",
    "        if group_dict.get(group_num):\n",
    "            group_dict[group_num].append(group_full_name)\n",
    "            continue\n",
    "        group_dict.update({\n",
    "            group_num:[group_full_name]\n",
    "        })\n",
    "    return group_dict"
   ]
  },
  {
   "cell_type": "code",
   "execution_count": 118,
   "id": "a65772e9-5576-407b-bf0f-85ef44475cbc",
   "metadata": {},
   "outputs": [],
   "source": [
    "def group_num_validator(user_input: str) -> bool:\n",
    "    pattern = r\"\\d\\d-\\d\\d\\d\"\n",
    "    return True if re.search(pattern, user_input) else False\n",
    "    \n",
    "def get_group_num(user_input: str) -> bool:\n",
    "    pattern = r\"\\d\\d-\\d\\d\\d\"\n",
    "    return re.search(pattern, user_input).group()\n",
    "# print(group_num_validator(\"qweqweqwe\"))\n",
    "# print(group_num_validator(\"'09-301': ['09-302 (1)', '09-303 (2)'],\"))\n",
    "# print(group_num_validator(\"qweq09-301weqwe\"))\n",
    "# print(group_num_validator(\"09-301\"))\n",
    "# print(group_num_validator(\"\"))\n"
   ]
  },
  {
   "cell_type": "code",
   "execution_count": 119,
   "id": "3745e5a7-0f9c-4d57-84ee-b152e7c411b9",
   "metadata": {},
   "outputs": [],
   "source": [
    "class NotGroupNumStyle(Exception):\n",
    "    def __init__(self, *args):\n",
    "        if args:\n",
    "            self.message = args[0]\n",
    "        else:\n",
    "            self.message = None\n",
    "\n",
    "    def __str__(self):\n",
    "        if self.message:\n",
    "            return f'NotGroupNumStyle, {self.message} '\n",
    "        else:\n",
    "            return 'NotGroupNumStyle has been raised'\n",
    "            \n",
    "    def get_message(self):\n",
    "        return self.message\n",
    "\n",
    "class GroupNotFound(Exception):\n",
    "    def __init__(self, *args):\n",
    "        if args:\n",
    "            self.message = args[0]\n",
    "        else:\n",
    "            self.message = None\n",
    "\n",
    "    def __str__(self):\n",
    "        if self.message:\n",
    "            return f'GroupNotFound, {self.message} '\n",
    "        else:\n",
    "            return 'GroupNotFound has been raised'\n",
    "            \n",
    "    def get_message(self):\n",
    "        return self.message"
   ]
  },
  {
   "cell_type": "code",
   "execution_count": 120,
   "id": "ec6aef8c-1667-4555-a67d-217bdf54773b",
   "metadata": {},
   "outputs": [],
   "source": [
    "def get_founded_group_names(user_input:str, groups_dict: dict)-> list[str]:\n",
    "    if group_num_validator(user_input):\n",
    "        g_num = get_group_num(user_input)\n",
    "        if result := groups_dict.get(g_num):\n",
    "            return result\n",
    "        raise GroupNotFound(f\"Введенный номер группы - {g_num}, не найден в рассписании\")\n",
    "    else:\n",
    "        raise NotGroupNumStyle(\"Введен неверный формат номера группы.\\nНомер должен быть вида XX-XXX,  например 01-001\")\n"
   ]
  },
  {
   "cell_type": "code",
   "execution_count": 121,
   "id": "2e90366a-4dfa-4006-ad60-b9fc76ee4a75",
   "metadata": {},
   "outputs": [
    {
     "name": "stdout",
     "output_type": "stream",
     "text": [
      "[0, 1, 2, 3, 4, 5, 6, 7, 8, 9, 10, 11, 12, 13, 14, 15]\n"
     ]
    }
   ],
   "source": [
    "path = os.path.join(BASE_DIR, \"actual_timetable.xlsx\")\n",
    "tt_df = read_timetable(path=path)\n",
    "group_names = get_cleaned_group_names(df=tt_df)\n",
    "only_numbers = get_only_group_numbers(df=tt_df, cleaned_group_names=group_names)\n",
    "groups_dict = get_groups_dict_by_group_numbers(df=tt_df, cleaned_group_names=group_names)"
   ]
  },
  {
   "cell_type": "code",
   "execution_count": 122,
   "id": "8cc34aa6-9460-4e37-925c-78eadb9bb3ab",
   "metadata": {},
   "outputs": [
    {
     "name": "stdout",
     "output_type": "stream",
     "text": [
      "Введен неверный формат номера группы.\n",
      "Номер должен быть вида XX-XXX,  например 01-001\n",
      "['09-301 (1)', '09-301 (2)']\n",
      "['09-301 (1)', '09-301 (2)']\n",
      "['09-301 (1)', '09-301 (2)']\n",
      "Введен неверный формат номера группы.\n",
      "Номер должен быть вида XX-XXX,  например 01-001\n",
      "['09-315 (1) (Анализ данных и его приложения)', '09-315 (2) (Математическое моделирование физических процессов) ', '09-315 (3) (Математические методы и информационные технологии в экономике и финансах)', '09-315 (4) (Искусственный интеллект и суперкомпьютерные вычисления)']\n"
     ]
    }
   ],
   "source": [
    "# этот блок и те что ниже - юзлесс \n",
    "\n",
    "user_inputs = [\"qweqweqwe\", \"'09-301': ['09-302 (1)', '09-303 (2)'],\",\"qweq09-301weqwe\",\"09-301\",\"\", \"09-315\"]\n",
    "for u_input in user_inputs:\n",
    "    try:\n",
    "        group_names = get_founded_group_names(user_input=u_input, groups_dict=groups_dict)\n",
    "        print(group_names)\n",
    "    except (GroupNotFound, NotGroupNumStyle) as e:\n",
    "        print(e.get_message())"
   ]
  },
  {
   "cell_type": "code",
   "execution_count": 123,
   "id": "2e40706d-f687-4deb-b728-45592001bdf8",
   "metadata": {},
   "outputs": [],
   "source": [
    "selected_group = '09-315 (1) (Анализ данных и его приложения)'"
   ]
  },
  {
   "cell_type": "code",
   "execution_count": null,
   "id": "b2b73572-ece3-45d0-bb5d-c534135d88ea",
   "metadata": {},
   "outputs": [],
   "source": []
  },
  {
   "cell_type": "code",
   "execution_count": null,
   "id": "f0edd594-425d-4b57-8a4f-e20ec7604bc0",
   "metadata": {},
   "outputs": [],
   "source": []
  },
  {
   "cell_type": "code",
   "execution_count": 124,
   "id": "bb939ae7-d4b6-4419-ab2b-0eb0778d613b",
   "metadata": {},
   "outputs": [],
   "source": [
    "by_group = tt_df[['Unnamed: 0', 'Unnamed: 1']]\n",
    "df = by_group.rename(columns={'Unnamed: 0': 'day', 'Unnamed: 1': 'time'})"
   ]
  },
  {
   "cell_type": "code",
   "execution_count": 150,
   "id": "ff5b89a4-df29-4047-8141-30c6cff4ff80",
   "metadata": {},
   "outputs": [
    {
     "name": "stdout",
     "output_type": "stream",
     "text": [
      "{'понедельник': [0, 1, 2, 3, 4, 5, 6, 7, 8, 9, 10, 11, 12, 13], 'вторник': [15, 16, 17, 18, 19, 20, 21, 22, 23, 24, 25, 26, 27, 28], 'среда': [30, 31, 32, 33, 34, 35, 36, 37, 38, 39, 40, 41, 42, 43], 'четверг': [45, 46, 47, 48, 49, 50, 51, 52, 53, 54, 55, 56, 57, 58, 59], 'пятница': [61, 62, 63, 64, 65, 66, 67, 68, 69, 70, 71, 72, 73, 74], 'суббота': [76, 77, 78, 79, 80, 81, 82, 83, 84, 85, 86, 87, 88, 89]}\n",
      "понедельник 14\n",
      "вторник 14\n",
      "среда 14\n",
      "четверг 15\n",
      "пятница 14\n",
      "суббота 14\n"
     ]
    }
   ],
   "source": [
    "day_dict:[str, list] = {}\n",
    "for row in df.itertuples():\n",
    "    index, day = row[:2]\n",
    "    if len(day)==2:\n",
    "        continue\n",
    "    if day_dict.get(day):\n",
    "        day_dict[day].append(index)\n",
    "    else:\n",
    "        day_dict.update({\n",
    "            day: [index]\n",
    "        })\n",
    "    if row[0] == 89:\n",
    "        break\n",
    "print(day_dict)\n",
    "for k,v in day_dict.items():\n",
    "    print(k, len(v))тут"
   ]
  },
  {
   "cell_type": "code",
   "execution_count": null,
   "id": "2de15714-33d7-4701-a6c3-9eeaa25c9270",
   "metadata": {},
   "outputs": [],
   "source": [
    "for row in df.itertuples():\n",
    "    print(row, end=\"\\n\\n\\n\")"
   ]
  },
  {
   "cell_type": "code",
   "execution_count": null,
   "id": "a3e723fc-dfec-415c-8921-812a7d8aa760",
   "metadata": {},
   "outputs": [],
   "source": [
    "for data in tt.itertuples():\n",
    "    print(data[3], data[4], end=\"\\n\\n\\n\", sep=\"\\n_____\\n\")"
   ]
  },
  {
   "cell_type": "code",
   "execution_count": null,
   "id": "d3fd14ff-edb1-4ef8-ada8-2a0f6302cc12",
   "metadata": {},
   "outputs": [],
   "source": []
  }
 ],
 "metadata": {
  "kernelspec": {
   "display_name": "Python 3 (ipykernel)",
   "language": "python",
   "name": "python3"
  },
  "language_info": {
   "codemirror_mode": {
    "name": "ipython",
    "version": 3
   },
   "file_extension": ".py",
   "mimetype": "text/x-python",
   "name": "python",
   "nbconvert_exporter": "python",
   "pygments_lexer": "ipython3",
   "version": "3.10.4"
  }
 },
 "nbformat": 4,
 "nbformat_minor": 5
}
